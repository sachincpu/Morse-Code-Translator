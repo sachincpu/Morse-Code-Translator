{
 "cells": [
  {
   "cell_type": "code",
   "execution_count": 5,
   "metadata": {},
   "outputs": [
    {
     "name": "stdout",
     "output_type": "stream",
     "text": [
      "... .- -.-. .... .. -.  ...- . .-. -- .- \n",
      "SACHIN-VERMA \n"
     ]
    }
   ],
   "source": [
    "MORSE_CODE_DICT = { 'A':'.-', 'B':'-...', \n",
    "                    'C':'-.-.', 'D':'-..', 'E':'.', \n",
    "                    'F':'..-.', 'G':'--.', 'H':'....', \n",
    "                    'I':'..', 'J':'.---', 'K':'-.-', \n",
    "                    'L':'.-..', 'M':'--', 'N':'-.', \n",
    "                    'O':'---', 'P':'.--.', 'Q':'--.-', \n",
    "                    'R':'.-.', 'S':'...', 'T':'-', \n",
    "                    'U':'..-', 'V':'...-', 'W':'.--', \n",
    "                    'X':'-..-', 'Y':'-.--', 'Z':'--..', \n",
    "                    '1':'.----', '2':'..---', '3':'...--', \n",
    "                    '4':'....-', '5':'.....', '6':'-....', \n",
    "                    '7':'--...', '8':'---..', '9':'----.', \n",
    "                    '0':'-----', ', ':'--..--', '.':'.-.-.-', \n",
    "                    '?':'..--..', '/':'-..-.', '-':'-....-', \n",
    "                    '(':'-.--.', ')':'-.--.-'}\n",
    "def Encrypt(statement):\n",
    "    encrypted_text= ''\n",
    "    for letter in statement:\n",
    "        if letter != ' ':\n",
    "            encrypted_text+=MORSE_CODE_DICT[letter] + ' '\n",
    "        else:\n",
    "             # 1 space indicates different characters \n",
    "            # and 2 indicates different words \n",
    "            encrypted_text += ' '\n",
    "    return encrypted_text\n",
    "\n",
    "\n",
    "def Decrypt(statement):\n",
    "    # extra space added at the end to access the \n",
    "    # last morse code \n",
    "    statement += ' '\n",
    "    decrypted_text = ''\n",
    "    single_character = ''\n",
    "    \n",
    "    for letter in statement:\n",
    "        if(letter != ' '):\n",
    "            i = 0 #keep tracks of number of spaces\n",
    "            \n",
    "            single_character +=letter\n",
    "            \n",
    "        else:\n",
    "            i+=1\n",
    "             # if i = 2 that indicates a new word\n",
    "            if(i==2):\n",
    "                decrypted_text += ' '\n",
    "            else:\n",
    "                decrypted_text += list(MORSE_CODE_DICT.keys())[list(MORSE_CODE_DICT.values()).index(single_character)]\n",
    "            single_character = ''\n",
    "    return decrypted_text\n",
    "def main():\n",
    "    statement = \"SACHIN VERMA\"\n",
    "    result = Encrypt(statement.upper()) \n",
    "    print (result) \n",
    "  \n",
    "    statement = \"... .- -.-. .... .. -. -....- ...- . .-. -- .- \"\n",
    "    result = Decrypt(statement) \n",
    "    print (result) \n",
    "  \n",
    "# Executes the main function \n",
    "if __name__ == '__main__': \n",
    "    main() "
   ]
  },
  {
   "cell_type": "code",
   "execution_count": null,
   "metadata": {},
   "outputs": [],
   "source": []
  }
 ],
 "metadata": {
  "kernelspec": {
   "display_name": "Python 3",
   "language": "python",
   "name": "python3"
  },
  "language_info": {
   "codemirror_mode": {
    "name": "ipython",
    "version": 3
   },
   "file_extension": ".py",
   "mimetype": "text/x-python",
   "name": "python",
   "nbconvert_exporter": "python",
   "pygments_lexer": "ipython3",
   "version": "3.7.3"
  }
 },
 "nbformat": 4,
 "nbformat_minor": 2
}
